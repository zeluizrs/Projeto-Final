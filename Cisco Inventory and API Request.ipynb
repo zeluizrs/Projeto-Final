{
  "nbformat": 4,
  "nbformat_minor": 0,
  "metadata": {
    "colab": {
      "name": "Inventory2208VersaoCompleta.ipynb",
      "provenance": [],
      "collapsed_sections": [
        "vlncdbX-Dkgf",
        "3-oN-aRm5Gdi"
      ]
    },
    "kernelspec": {
      "display_name": "Python 3",
      "language": "python",
      "name": "python3"
    },
    "language_info": {
      "codemirror_mode": {
        "name": "ipython",
        "version": 3
      },
      "file_extension": ".py",
      "mimetype": "text/x-python",
      "name": "python",
      "nbconvert_exporter": "python",
      "pygments_lexer": "ipython3",
      "version": "3.8.3"
    }
  },
  "cells": [
    {
      "cell_type": "markdown",
      "metadata": {
        "id": "HjxhmBSD56hB"
      },
      "source": [
        "# **Tratamento e coleta de informações de inventário de equipamentos de rede IP: roteadores e switches Cisco**\n",
        "\n",
        "#### 1) Este código realiza a conversão do inventário de equipamentos de rede do formato semi-estruturado, extraída através da interface de linha de comando dos equipamentos, para o formato de tabela.\n",
        "\n",
        "#### 2) Além disso, extrai a localização dos equipamentos baseado no nome dos mesmos.\n",
        "\n",
        "#### 3) E por fim, busca e acrescenta informações relativas ao ciclo de vida do equipamento, como se já encontra-se obsoleto (fabricante não dá mais suporte) e se tem algum contrato de suporte associado. \n"
      ]
    },
    {
      "cell_type": "markdown",
      "metadata": {
        "id": "a9v13w4mGVBI"
      },
      "source": [
        "## Instalação de biblioteca"
      ]
    },
    {
      "cell_type": "code",
      "metadata": {
        "id": "GLsBsqxNpJOv"
      },
      "source": [
        "!pip install textfsm\n",
        "!pip install pandas\n",
        "!pip install regex\n",
        "import  textfsm\n",
        "import pandas as pd\n",
        "import regex as re\n",
        "import requests\n",
        "import urllib3\n",
        "urllib3.disable_warnings(urllib3.exceptions.InsecureRequestWarning)\n",
        "import json\n"
      ],
      "execution_count": null,
      "outputs": []
    },
    {
      "cell_type": "markdown",
      "metadata": {
        "id": "h0k6hzXdDGVL"
      },
      "source": [
        "## 1) Conversão do texto extraído de comando na CLI para formato de tabela"
      ]
    },
    {
      "cell_type": "markdown",
      "metadata": {
        "id": "0cytkITLubX3"
      },
      "source": [
        "Adequação do arquivo fonte com \"inventário\" dos equipamentos, inserindo o  marcador do prompt de comando para ficar de acordo com template utilizado. Inserido # após o nome do equipamento."
      ]
    },
    {
      "cell_type": "code",
      "metadata": {
        "id": "SXo_kw4XuT2y"
      },
      "source": [
        "old_input_file = open(\"show_inventory_real.txt\", encoding='utf-8')\n",
        "input_file = open(\"show_inventory_real_mod.txt\",\"wt\")\n",
        "for line in old_input_file:\n",
        "        input_file.write(line.replace(\" | CHANGED |\",\"#\"))\n",
        "old_input_file.close()\n",
        "input_file.close()"
      ],
      "execution_count": null,
      "outputs": []
    },
    {
      "cell_type": "markdown",
      "metadata": {
        "id": "X8hf-fa8vO9f"
      },
      "source": [
        "Atribuição do conteúdo do arquivo de inventário modificado a uma variável."
      ]
    },
    {
      "cell_type": "code",
      "metadata": {
        "id": "n-MOksmkveuR"
      },
      "source": [
        "input_file = open(\"show_inventory_real_mod.txt\", encoding='utf-8')\n",
        "raw_text_data = input_file.read()\n",
        "input_file.close()"
      ],
      "execution_count": null,
      "outputs": []
    },
    {
      "cell_type": "markdown",
      "metadata": {
        "id": "ulPmIj4fvglS"
      },
      "source": [
        "*Parser* do texto com FSM. O template é utilizado para comparar o conteúdo do texto com o invetory dos equipamentos e localizar cada informação."
      ]
    },
    {
      "cell_type": "code",
      "metadata": {
        "id": "btOHmFabxVKK"
      },
      "source": [
        "template = open(\"show_inventory_multiple.textfsm\")\n",
        "re_table = textfsm.TextFSM(template)\n",
        "fsm_results = re_table.ParseText(raw_text_data)"
      ],
      "execution_count": null,
      "outputs": []
    },
    {
      "cell_type": "markdown",
      "metadata": {
        "id": "p2DsK86nxcDa"
      },
      "source": [
        "\n",
        "\n",
        "\n",
        "\n",
        "Criação de dataframe com a lista de equipamentos."
      ]
    },
    {
      "cell_type": "code",
      "metadata": {
        "id": "DQGqm8CzDfi7"
      },
      "source": [
        "df_equip = pd.DataFrame(fsm_results)"
      ],
      "execution_count": null,
      "outputs": []
    },
    {
      "cell_type": "code",
      "metadata": {
        "id": "_0Yi0hh8Dfi7"
      },
      "source": [
        "df_equip"
      ],
      "execution_count": null,
      "outputs": []
    },
    {
      "cell_type": "markdown",
      "metadata": {
        "id": "k2K1W4CXDfi8"
      },
      "source": [
        "\n",
        "\n",
        "\n",
        "\n",
        "Inserindo título das colunas"
      ]
    },
    {
      "cell_type": "code",
      "metadata": {
        "id": "3K8BnDUXDfi8"
      },
      "source": [
        "df_equip.columns = re_table.header"
      ],
      "execution_count": null,
      "outputs": []
    },
    {
      "cell_type": "code",
      "metadata": {
        "id": "30x1lzuZDfi9"
      },
      "source": [
        "df_equip.head()"
      ],
      "execution_count": null,
      "outputs": []
    },
    {
      "cell_type": "markdown",
      "metadata": {
        "id": "gHfxayBFDYwe"
      },
      "source": [
        "## 2) Extração da informação de localização do equipamento"
      ]
    },
    {
      "cell_type": "markdown",
      "metadata": {
        "id": "LKOAJHCTDfi-"
      },
      "source": [
        "Esta parte extrai informação de localização do equipamento (site) baseado no hostname. "
      ]
    },
    {
      "cell_type": "code",
      "metadata": {
        "id": "bxPs5-17FrcF"
      },
      "source": [
        "df = df_equip\n",
        "df.dtypes"
      ],
      "execution_count": null,
      "outputs": []
    },
    {
      "cell_type": "code",
      "metadata": {
        "id": "Z7V7wk7ie8YD"
      },
      "source": [
        "df['site'] = df['hostname'].str.findall('([a-zA-Z ]+)$|([a-zA-Z]+[0-9]+)$')\n",
        "df"
      ],
      "execution_count": null,
      "outputs": []
    },
    {
      "cell_type": "code",
      "metadata": {
        "id": "lV1k1K-oDfi_"
      },
      "source": [
        "#Como o nome do site apareceu entre parênteses e colchetes, formando uma tupla com elemento vazio, \n",
        "#foi necessário criar uma função para extrair a informação somente a informação do site.\n",
        "def get_items(site_row):\n",
        "  list_item = site_row[0]\n",
        "  item = [x for x in list_item if x != \"\"]\n",
        "  return item[0]\n",
        "\n",
        "def get_site(row):\n",
        "  site = row['site']\n",
        "  item = get_items(site)\n",
        "  row['Site'] = item\n",
        "  return row\n",
        "df2 = df.apply(get_site, axis=1)"
      ],
      "execution_count": null,
      "outputs": []
    },
    {
      "cell_type": "code",
      "metadata": {
        "id": "ucPoe8C5Dfi_"
      },
      "source": [
        "df2"
      ],
      "execution_count": null,
      "outputs": []
    },
    {
      "cell_type": "code",
      "metadata": {
        "id": "2NVIeKtExZBd"
      },
      "source": [
        "#Excluindo as colunas que não necessárias\n",
        "df3 = df2.drop(columns =['site','vid'])\n",
        "df3"
      ],
      "execution_count": null,
      "outputs": []
    },
    {
      "cell_type": "markdown",
      "metadata": {
        "id": "vlncdbX-Dkgf"
      },
      "source": [
        "## 3) Localização de informações relacionadas ao ciclo de vida do equipamento junto ao fabricante."
      ]
    },
    {
      "cell_type": "markdown",
      "metadata": {
        "id": "i1D7WhL0pw0V"
      },
      "source": [
        "Etapa de autenticação e atribuição de token no site do fabricante"
      ]
    },
    {
      "cell_type": "code",
      "metadata": {
        "id": "5PdrbooDDfjC"
      },
      "source": [
        "def get_token():\n",
        "    headers = {\n",
        "    'Content-Type': 'application/x-www-form-urlencoded',\n",
        "    }\n",
        "    data = {\n",
        "     'client_id': 'inserir ID',\n",
        "     'client_secret': 'inserir secret',\n",
        "     'grant_type': 'client_credentials'\n",
        "    }\n",
        "    response = requests.post('https://cloudsso.cisco.com/as/token.oauth2', headers=headers, data=data, verify=False)\n",
        "    js = response.json()\n",
        "    token = (js['access_token'])\n",
        "    headers = {\n",
        "        'Accept': 'application/json',\n",
        "        'Authorization': 'Bearer ' + token,\n",
        "    }\n",
        "    return headers"
      ],
      "execution_count": null,
      "outputs": []
    },
    {
      "cell_type": "code",
      "metadata": {
        "id": "Wc8kfwwIDfjC"
      },
      "source": [
        "var_token = get_token()"
      ],
      "execution_count": null,
      "outputs": []
    },
    {
      "cell_type": "markdown",
      "metadata": {
        "id": "UmrnxRa4qFFG"
      },
      "source": [
        "Consulta via API no site do Fabricante"
      ]
    },
    {
      "cell_type": "code",
      "metadata": {
        "id": "ha0kXCMgDfjE"
      },
      "source": [
        "# definição de função para consulta se o equipamento está coberto com algum contrato\n",
        "def get_coverage(num_serie):\n",
        "    if (num_serie == \"N/A\"):\n",
        "        coverage = \"Not Available\"\n",
        "    else:\n",
        "     response1 = requests.get('https://api.cisco.com/sn2info/v2/coverage/status/serial_numbers/%s' %num_serie, headers=var_token, verify=False)\n",
        "     data1 = json.loads(response1.text)\n",
        "     coverage = data1['serial_numbers'][0]['is_covered']\n",
        "    return coverage"
      ],
      "execution_count": null,
      "outputs": []
    },
    {
      "cell_type": "code",
      "metadata": {
        "id": "DZs_mB0qDfjE"
      },
      "source": [
        "# definição de função para consulta de última data de suporte do produto associado ao número de série informado.\n",
        "def get_eos(produtoid):\n",
        "    if (produtoid == 'Unspecified'):\n",
        "        EndOfSupport = \"Not Available\"\n",
        "    else:\n",
        "        response2 = requests.get('https://api.cisco.com/supporttools/eox/rest/5/EOXByProductID/%s' %produtoid, headers=var_token, verify=False)\n",
        "        data2 = json.loads(response2.text)\n",
        "        DataEndOfSupport = data2['EOXRecord'][0]['LastDateOfSupport']['value']\n",
        "        if (DataEndOfSupport != ''): \n",
        "            EndOfSupport = DataEndOfSupport\n",
        "        else:\n",
        "            EndOfSupport = \"Not Announced\"  \n",
        "    return EndOfSupport"
      ],
      "execution_count": null,
      "outputs": []
    },
    {
      "cell_type": "code",
      "metadata": {
        "id": "1Ja7DsYlDfjF"
      },
      "source": [
        "df3['coverage']=''\n",
        "df3"
      ],
      "execution_count": null,
      "outputs": []
    },
    {
      "cell_type": "code",
      "metadata": {
        "id": "fFnv5MH0DfjF"
      },
      "source": [
        "df3.dtypes"
      ],
      "execution_count": null,
      "outputs": []
    },
    {
      "cell_type": "code",
      "metadata": {
        "id": "UUL81fa9DfjG"
      },
      "source": [
        "#Criada função para consulta da cobertura contratual, prevendo que seja inserido \n",
        "#\"erro\" quando a consulta não for viável, seja por token inválido, seja por \n",
        "#consulta de parêmetro inválido.\n",
        "def query_coverage(row):\n",
        "    try:\n",
        "      contrato_row = row['coverage']\n",
        "      serialNumber_row = row['serialnumber']\n",
        "      if contrato_row == '':\n",
        "        row['coverage'] = get_coverage(serialNumber_row)\n",
        "      return row\n",
        "    except:\n",
        "      row['coverage'] = 'Erro'\n",
        "      return row "
      ],
      "execution_count": null,
      "outputs": []
    },
    {
      "cell_type": "code",
      "metadata": {
        "id": "8mUq7Z7jJXEi"
      },
      "source": [
        "df4 = df3.apply(query_coverage, axis=1)"
      ],
      "execution_count": null,
      "outputs": []
    },
    {
      "cell_type": "code",
      "metadata": {
        "id": "OL5gLvzfDfjG"
      },
      "source": [
        "df4"
      ],
      "execution_count": null,
      "outputs": []
    },
    {
      "cell_type": "code",
      "metadata": {
        "id": "m3l4eIhcDfjH"
      },
      "source": [
        "df4['EoS']=''"
      ],
      "execution_count": null,
      "outputs": []
    },
    {
      "cell_type": "code",
      "metadata": {
        "id": "wR2rtuKSDfjH"
      },
      "source": [
        "df4"
      ],
      "execution_count": null,
      "outputs": []
    },
    {
      "cell_type": "code",
      "metadata": {
        "id": "wecVhk9rDfjI"
      },
      "source": [
        "#Criada função para consulta do fim de suporte, prevendo que seja inserido \n",
        "#\"erro\" quando a consulta não for viável, seja por token inválido, seja por \n",
        "#consulta de parêmetro inválido.\n",
        "def query_eos(row):\n",
        "    try: \n",
        "      eos_row = row['EoS']\n",
        "      productid_row = row['productid']\n",
        "      if eos_row == '':\n",
        "        row['EoS'] = get_eos(productid_row)\n",
        "      return row\n",
        "    except:\n",
        "      row['EoS'] = 'Erro'\n",
        "      return row"
      ],
      "execution_count": null,
      "outputs": []
    },
    {
      "cell_type": "code",
      "metadata": {
        "id": "paF6sb6kKMf5"
      },
      "source": [
        "df5 = df4.apply(query_eos, axis=1)"
      ],
      "execution_count": null,
      "outputs": []
    },
    {
      "cell_type": "code",
      "metadata": {
        "id": "BkQFeUorDfjI"
      },
      "source": [
        "df5"
      ],
      "execution_count": null,
      "outputs": []
    },
    {
      "cell_type": "code",
      "metadata": {
        "id": "NAPNbU-WDfjJ"
      },
      "source": [
        "df5.to_csv('Dados_Equipamentos.csv', index=False)"
      ],
      "execution_count": null,
      "outputs": []
    },
    {
      "cell_type": "markdown",
      "metadata": {
        "id": "3-oN-aRm5Gdi"
      },
      "source": [
        "## **Referências:**\n"
      ]
    },
    {
      "cell_type": "markdown",
      "metadata": {
        "id": "Lv9mbZxnFxEN"
      },
      "source": [
        "* http://yang.ciscolive.com/pod0/labs/lab9/lab9-m8\n",
        "* https://code.google.com/archive/p/textfsm/\n",
        "* https://codingnetworker.com/2015/08/parse-cli-outputs-textfsm/\n",
        "\n"
      ]
    }
  ]
}
